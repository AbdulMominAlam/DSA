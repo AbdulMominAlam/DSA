{
  "nbformat": 4,
  "nbformat_minor": 0,
  "metadata": {
    "colab": {
      "provenance": [],
      "authorship_tag": "ABX9TyPcbKmMdyf9q+/m6JR2zCOB",
      "include_colab_link": true
    },
    "kernelspec": {
      "name": "python3",
      "display_name": "Python 3"
    },
    "language_info": {
      "name": "python"
    }
  },
  "cells": [
    {
      "cell_type": "markdown",
      "metadata": {
        "id": "view-in-github",
        "colab_type": "text"
      },
      "source": [
        "<a href=\"https://colab.research.google.com/github/AbdulMominAlam/DSA/blob/main/Hypothesis_testing.ipynb\" target=\"_parent\"><img src=\"https://colab.research.google.com/assets/colab-badge.svg\" alt=\"Open In Colab\"/></a>"
      ]
    },
    {
      "cell_type": "code",
      "execution_count": null,
      "metadata": {
        "id": "eiv2MQKQYFOq"
      },
      "outputs": [],
      "source": [
        "# 1) Import necessary libraries\n",
        "import pandas as pd\n",
        "import numpy as np\n",
        "import scipy.stats as stats\n",
        "import statsmodels.api as sm\n",
        "\n",
        "# 2) Load and Clean Datasets\n",
        "macro_raw = pd.read_csv('/content/macroog.csv')\n",
        "oecd = pd.read_csv('/content/oecd_cleaned.csv')\n",
        "\n",
        "# Clean macro data\n",
        "macro_raw = macro_raw.rename(columns={'Country Name': 'Country', 'Series Name': 'Indicator'})\n",
        "year_cols = [col for col in macro_raw.columns if '[YR' in col]\n",
        "macro_long = macro_raw.melt(id_vars=['Country', 'Indicator'], value_vars=year_cols,\n",
        "                            var_name='Year', value_name='Value')\n",
        "macro_long['Year'] = macro_long['Year'].str.extract(r'(\\d{4})').astype(int)\n",
        "macro_long['Value'] = pd.to_numeric(macro_long['Value'], errors='coerce')\n",
        "macro_long.dropna(inplace=True)\n",
        "\n",
        "macro_wide = macro_long.groupby(['Country', 'Year', 'Indicator'], as_index=False)['Value'].mean()\n",
        "macro_pivot = macro_wide.pivot(index=['Country', 'Year'], columns='Indicator', values='Value').reset_index()\n",
        "macro_pivot = macro_pivot.rename(columns={\n",
        "    'GDP growth (annual %)': 'GDP_Growth',\n",
        "    'Inflation, consumer prices (annual %)': 'Inflation',\n",
        "    'Unemployment, total (% of total labor force) (national estimate)': 'Unemployment'\n",
        "})\n",
        "macro_pivot = macro_pivot[['Country', 'Year', 'GDP_Growth', 'Inflation', 'Unemployment']]\n",
        "\n",
        "# Clean OECD data\n",
        "oecd = oecd.rename(columns={'TIME_PERIOD': 'Year', 'Value': 'R&D_Spend_MillionUSD'})\n",
        "oecd['Year'] = pd.to_numeric(oecd['Year'], errors='coerce')\n",
        "oecd['R&D_Spend_MillionUSD'] = pd.to_numeric(oecd['R&D_Spend_MillionUSD'], errors='coerce')\n",
        "oecd = oecd[['Country', 'Year', 'R&D_Spend_MillionUSD']].dropna()\n",
        "\n",
        "# Merge datasets\n",
        "merged = pd.merge(oecd, macro_pivot, on=['Country', 'Year'], how='inner')\n",
        "merged.dropna(inplace=True)\n",
        "\n",
        "# 3) Hypothesis Tests\n",
        "\n",
        "# Test 1: Correlation between Unemployment and R&D Spending\n",
        "corr_unemployment, pval_unemployment = stats.pearsonr(merged['Unemployment'], merged['R&D_Spend_MillionUSD'])\n",
        "print(f\"Test 1 - Pearson Correlation (Unemployment vs R&D): r = {corr_unemployment:.4f}, p-value = {pval_unemployment:.4f}\")\n",
        "\n",
        "# Test 2: Two-sample t-test for High vs. Low Inflation groups\n",
        "median_inflation = merged['Inflation'].median()\n",
        "group_high = merged[merged['Inflation'] > median_inflation]['R&D_Spend_MillionUSD']\n",
        "group_low = merged[merged['Inflation'] <= median_inflation]['R&D_Spend_MillionUSD']\n",
        "t_stat, p_ttest = stats.ttest_ind(group_high, group_low, equal_var=False)\n",
        "print(f\"Test 2 - Two-sample t-test (High vs Low Inflation): t-statistic = {t_stat:.4f}, p-value = {p_ttest:.4f}\")\n",
        "\n",
        "# Test 3: Comparison of Coefficients for Inflation vs GDP Growth\n",
        "X = sm.add_constant(merged[['GDP_Growth', 'Inflation']])\n",
        "y = merged['R&D_Spend_MillionUSD']\n",
        "model = sm.OLS(y, X).fit()\n",
        "\n",
        "coef_gdp = model.params['GDP_Growth']\n",
        "coef_inflation = model.params['Inflation']\n",
        "se_gdp = model.bse['GDP_Growth']\n",
        "se_inflation = model.bse['Inflation']\n",
        "\n",
        "# Calculate t-statistic for difference\n",
        "diff = coef_inflation - coef_gdp\n",
        "se_diff = np.sqrt(se_gdp**2 + se_inflation**2)\n",
        "t_diff = diff / se_diff\n",
        "p_diff = 2 * (1 - stats.t.cdf(abs(t_diff), df=len(merged) - 3))\n",
        "\n",
        "print(f\"Test 3 - Coefficient Comparison (Inflation vs GDP Growth): t-statistic = {t_diff:.4f}, p-value = {p_diff:.4f}\")\n"
      ]
    }
  ]
}